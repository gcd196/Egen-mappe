{
 "cells": [
  {
   "cell_type": "markdown",
   "metadata": {},
   "source": [
    "# Inaugural Project"
   ]
  },
  {
   "attachments": {},
   "cell_type": "markdown",
   "metadata": {},
   "source": [
    "> **Note the following:** \n",
    "> 1. This is an example of how to structure your **inaugural project**.\n",
    "> 1. Remember the general advice on structuring and commenting your code\n",
    "> 1. The `inauguralproject.py` file includes a function which can be used multiple times in this notebook."
   ]
  },
  {
   "cell_type": "markdown",
   "metadata": {},
   "source": [
    "Imports and set magics:"
   ]
  },
  {
   "cell_type": "code",
   "execution_count": 11,
   "metadata": {},
   "outputs": [
    {
     "name": "stdout",
     "output_type": "stream",
     "text": [
      "The autoreload extension is already loaded. To reload it, use:\n",
      "  %reload_ext autoreload\n",
      "The autoreload extension is already loaded. To reload it, use:\n",
      "  %reload_ext autoreload\n"
     ]
    }
   ],
   "source": [
    "import numpy as np\n",
    "\n",
    "# autoreload modules when code is run. Otherwise, python will not see recent changes. \n",
    "%load_ext autoreload\n",
    "%autoreload 2\n",
    "\n",
    "# Import your own code\n",
    "import inauguralproject\n",
    "\n",
    "%load_ext autoreload\n",
    "%autoreload 2\n",
    "from Second_HouseholdSpecializationModel import *"
   ]
  },
  {
   "cell_type": "markdown",
   "metadata": {},
   "source": [
    "# Question 1"
   ]
  },
  {
   "cell_type": "markdown",
   "metadata": {},
   "source": [
    "**Explain how you solve the model**"
   ]
  },
  {
   "cell_type": "code",
   "execution_count": 17,
   "metadata": {},
   "outputs": [
    {
     "name": "stdout",
     "output_type": "stream",
     "text": [
      "0.25\n",
      "0.5\n",
      "LM = 2.0000\n",
      "HM = 6.5000\n",
      "LF = 7.0000\n",
      "HF = 2.0000\n",
      "0.5\n",
      "0.5\n",
      "LM = 4.5000\n",
      "HM = 4.5000\n",
      "LF = 4.5000\n",
      "HF = 4.5000\n",
      "0.75\n",
      "0.5\n",
      "LM = 6.5000\n",
      "HM = 2.0000\n",
      "LF = 2.5000\n",
      "HF = 6.5000\n",
      "0.25\n",
      "1.0\n",
      "LM = 2.0000\n",
      "HM = 6.5000\n",
      "LF = 7.0000\n",
      "HF = 2.0000\n",
      "0.5\n",
      "1.0\n",
      "LM = 4.5000\n",
      "HM = 4.5000\n",
      "LF = 4.5000\n",
      "HF = 4.5000\n",
      "0.75\n",
      "1.0\n",
      "LM = 6.5000\n",
      "HM = 2.0000\n",
      "LF = 2.5000\n",
      "HF = 6.5000\n",
      "0.25\n",
      "1.5\n",
      "LM = 2.0000\n",
      "HM = 6.5000\n",
      "LF = 7.0000\n",
      "HF = 2.0000\n",
      "0.5\n",
      "1.5\n",
      "LM = 4.5000\n",
      "HM = 4.5000\n",
      "LF = 4.5000\n",
      "HF = 4.5000\n",
      "0.75\n",
      "1.5\n",
      "LM = 6.5000\n",
      "HM = 2.0000\n",
      "LF = 2.5000\n",
      "HF = 6.5000\n"
     ]
    }
   ],
   "source": [
    "#We import the model above. For a start we get the solution. \n",
    "\n",
    "solution = HouseholdSpecializationModelClass()\n",
    "\n",
    "for sigma in np.linspace(0.5,1.5,3):\n",
    "    for alpha in np.linspace(0.25,0.75,3):\n",
    "        solution.par.alpha = alpha\n",
    "        print(alpha)\n",
    "        print(sigma)\n",
    "        solution.solve_discrete(do_print=True)\n",
    "#For a start lets change a parameter value. \n",
    "\n",
    "# This function tells the widget how the plot should look at a specific parametrization "
   ]
  },
  {
   "cell_type": "markdown",
   "metadata": {},
   "source": [
    "# Question 2"
   ]
  },
  {
   "cell_type": "code",
   "execution_count": 17,
   "metadata": {},
   "outputs": [],
   "source": [
    "        x = np.linspace(0,24,3) #It creases 49 number evenly distributed between 0 and 24. I.e. restrictions\n",
    "        LM,HM,LF,HF = np.meshgrid(x,x,x,x) # all combinations based on restrictions. It makes four vectors\n",
    "    \n",
    "        LM = LM.ravel() # make it a vector 1. dimensional. All combination. Each element one combination. \n",
    "        HM = HM.ravel() \n",
    "        LF = LF.ravel()\n",
    "        HF = HF.ravel()\n"
   ]
  },
  {
   "cell_type": "code",
   "execution_count": 18,
   "metadata": {},
   "outputs": [
    {
     "name": "stdout",
     "output_type": "stream",
     "text": [
      "[ 0. 12. 24.]\n",
      "[ 0. 12. 24.  0. 12. 24.  0. 12. 24.  0. 12. 24.  0. 12. 24.  0. 12. 24.\n",
      "  0. 12. 24.  0. 12. 24.  0. 12. 24.  0. 12. 24.  0. 12. 24.  0. 12. 24.\n",
      "  0. 12. 24.  0. 12. 24.  0. 12. 24.  0. 12. 24.  0. 12. 24.  0. 12. 24.\n",
      "  0. 12. 24.  0. 12. 24.  0. 12. 24.  0. 12. 24.  0. 12. 24.  0. 12. 24.\n",
      "  0. 12. 24.  0. 12. 24.  0. 12. 24.]\n"
     ]
    }
   ],
   "source": [
    "print(x)\n",
    "print(HF)"
   ]
  },
  {
   "cell_type": "markdown",
   "metadata": {},
   "source": [
    "Explain your code and procedure"
   ]
  },
  {
   "cell_type": "code",
   "execution_count": 3,
   "metadata": {},
   "outputs": [],
   "source": [
    "# code"
   ]
  },
  {
   "cell_type": "markdown",
   "metadata": {},
   "source": [
    "# Question 3"
   ]
  },
  {
   "cell_type": "markdown",
   "metadata": {},
   "source": [
    "Explain your code and procedure"
   ]
  },
  {
   "cell_type": "code",
   "execution_count": 4,
   "metadata": {},
   "outputs": [],
   "source": [
    "# code"
   ]
  },
  {
   "attachments": {},
   "cell_type": "markdown",
   "metadata": {},
   "source": [
    "# Question 4"
   ]
  },
  {
   "attachments": {},
   "cell_type": "markdown",
   "metadata": {},
   "source": [
    "# Question 5"
   ]
  },
  {
   "cell_type": "markdown",
   "metadata": {},
   "source": []
  }
 ],
 "metadata": {
  "kernelspec": {
   "display_name": "base",
   "language": "python",
   "name": "python3"
  },
  "language_info": {
   "codemirror_mode": {
    "name": "ipython",
    "version": 3
   },
   "file_extension": ".py",
   "mimetype": "text/x-python",
   "name": "python",
   "nbconvert_exporter": "python",
   "pygments_lexer": "ipython3",
   "version": "3.9.16"
  },
  "toc-autonumbering": true,
  "vscode": {
   "interpreter": {
    "hash": "47ef90cdf3004d3f859f1fb202523c65c07ba7c22eefd261b181f4744e2d0403"
   }
  }
 },
 "nbformat": 4,
 "nbformat_minor": 4
}
