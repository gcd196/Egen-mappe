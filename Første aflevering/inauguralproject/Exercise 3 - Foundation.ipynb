{
 "cells": [
  {
   "cell_type": "code",
   "execution_count": 12,
   "metadata": {},
   "outputs": [],
   "source": [
    "import numpy as np\n",
    "from scipy import optimize\n",
    "def whatever(LM, HM, LF, HF):\n",
    "    rho = 2.0\n",
    "    nu = 0.001\n",
    "    epsilon = 1.0\n",
    "    omega = 0.5 \n",
    "\n",
    "        # c. household production\n",
    "    alpha = 0.5\n",
    "    sigma = 1.0\n",
    "\n",
    "        # d. wages\n",
    "    wM = 1.0\n",
    "    wF = 0.9\n",
    "    wF_vec = np.linspace(0.8,1.2,5)\n",
    "\n",
    "\n",
    "    C = wM*LM + wF*LF\n",
    "    if sigma == 0:\n",
    "        H=np.fmin(HM,HF)\n",
    "    elif sigma == 1:\n",
    "        H = HM**(1-alpha)*HF**alpha\n",
    "    else:\n",
    "        H= ((1-alpha)*HM**((sigma-1)/sigma)+\n",
    "            alpha*HF**((sigma-1)/sigma))**(sigma/(sigma-1))\n",
    "\n",
    "        # c. total consumption utility\n",
    "    Q = C**omega*H**(1-omega)\n",
    "    utility = np.fmax(Q,1e-8)**(1-rho)/(1-rho)\n",
    "\n",
    "        # d. disutlity of work\n",
    "    epsilon_ = 1+1/epsilon\n",
    "    TM = LM+HM\n",
    "    TF = LF+HF\n",
    "    disutility = nu*(TM**epsilon_/epsilon_+TF**epsilon_/epsilon_)\n",
    "        \n",
    "    return utility - disutility"
   ]
  },
  {
   "cell_type": "code",
   "execution_count": 13,
   "metadata": {},
   "outputs": [
    {
     "name": "stdout",
     "output_type": "stream",
     "text": [
      "9.75472905853092e-05\n"
     ]
    }
   ],
   "source": [
    "#Without loop\n",
    "def utility_function(L): \n",
    "    return -whatever(L[0],L[1],L[2],L[3])\n",
    "        #Define the bounds and constraints. \n",
    "constraint_men = ({'type': 'ineq', 'fun': lambda L:  24-L[0]-L[1]})\n",
    "constraint_women = ({'type': 'ineq', 'fun': lambda L:  24-L[2]-L[3]})\n",
    "bounds=((0,24),(0,24), (0,24), (0,24))\n",
    "        \n",
    "# Initial guess. Not important\n",
    "initial_guess = [12,12,12,12]\n",
    "\n",
    "\n",
    "solution_cont = optimize.minimize(\n",
    "    utility_function, initial_guess,\n",
    "    method='SLSQP', bounds=bounds, constraints=(constraint_men, constraint_women))\n",
    "# Save results\n",
    "LM_vec_cont = solution_cont.x[0]\n",
    "HM_vec_cont = solution_cont.x[1]\n",
    "LF_vec_cont = solution_cont.x[2]\n",
    "HF_vec_cont = solution_cont.x[3]\n",
    "log_HF_HM_cont=np.log(HF_vec_cont)-np.log(HM_vec_cont)\n",
    "print(log_HF_HM_cont)\n",
    "\n"
   ]
  },
  {
   "cell_type": "code",
   "execution_count": 9,
   "metadata": {},
   "outputs": [
    {
     "name": "stdout",
     "output_type": "stream",
     "text": [
      "[5.93014587 5.93014587 5.93014587 5.93014587 5.93014587]\n"
     ]
    }
   ],
   "source": [
    "#With loop\n",
    "#Problems with iterating over different values of wF\n",
    "from scipy import optimize\n",
    "def utility_function_2(L): \n",
    "    return -whatever(L[0],L[1],L[2],L[3])\n",
    "        #Define the bounds and constraints. \n",
    "constraint_men = ({'type': 'ineq', 'fun': lambda L:  24-L[0]-L[1]})\n",
    "constraint_women = ({'type': 'ineq', 'fun': lambda L:  24-L[2]-L[3]})\n",
    "bounds=((0,24),(0,24), (0,24), (0,24))\n",
    "        \n",
    "# Initial guess. Not important\n",
    "initial_guess = [12,12,12,12]\n",
    "wF_vec = np.linspace(0.8,1.2,5)\n",
    "#Define vectors to store the results. \n",
    "LM_vec_cont=np.zeros(wF_vec.size)\n",
    "HM_vec_cont=np.zeros(wF_vec.size)\n",
    "LF_vec_cont=np.zeros(wF_vec.size)\n",
    "HF_vec_cont=np.zeros(wF_vec.size)\n",
    "    \n",
    "for i, wF in enumerate(wF_vec):\n",
    "    wF=wF_vec[i]\n",
    "    solution_cont = optimize.minimize(\n",
    "        utility_function_2, initial_guess,\n",
    "        method='SLSQP', bounds=bounds, constraints=(constraint_men, constraint_women))\n",
    "    # Save results\n",
    "    LM_vec_cont[i] = solution_cont.x[0]\n",
    "    HM_vec_cont[i] = solution_cont.x[1]\n",
    "    LF_vec_cont[i] = solution_cont.x[2]\n",
    "    HF_vec_cont[i] = solution_cont.x[3]\n",
    "\n",
    "print(LM_vec_cont)"
   ]
  },
  {
   "cell_type": "code",
   "execution_count": null,
   "metadata": {},
   "outputs": [],
   "source": []
  }
 ],
 "metadata": {
  "kernelspec": {
   "display_name": "base",
   "language": "python",
   "name": "python3"
  },
  "language_info": {
   "codemirror_mode": {
    "name": "ipython",
    "version": 3
   },
   "file_extension": ".py",
   "mimetype": "text/x-python",
   "name": "python",
   "nbconvert_exporter": "python",
   "pygments_lexer": "ipython3",
   "version": "3.9.16"
  },
  "orig_nbformat": 4
 },
 "nbformat": 4,
 "nbformat_minor": 2
}
