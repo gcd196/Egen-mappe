{
 "cells": [
  {
   "attachments": {},
   "cell_type": "markdown",
   "metadata": {},
   "source": [
    "# Parallization"
   ]
  },
  {
   "attachments": {},
   "cell_type": "markdown",
   "metadata": {},
   "source": [
    "**Table of contents**<a id='toc0_'></a>    \n",
    "- 1. [Serial problem](#toc1_)    \n",
    "- 2. [Parallization with joblib](#toc2_)    \n",
    "- 3. [Parallization with Numba](#toc3_)    \n",
    "- 4. [Limitations](#toc4_)    \n",
    "\n",
    "<!-- vscode-jupyter-toc-config\n",
    "\tnumbering=true\n",
    "\tanchor=true\n",
    "\tflat=false\n",
    "\tminLevel=2\n",
    "\tmaxLevel=6\n",
    "\t/vscode-jupyter-toc-config -->\n",
    "<!-- THIS CELL WILL BE REPLACED ON TOC UPDATE. DO NOT WRITE YOUR TEXT IN THIS CELL -->"
   ]
  },
  {
   "attachments": {},
   "cell_type": "markdown",
   "metadata": {},
   "source": [
    "You will be introduced to how to use the **parallization**."
   ]
  },
  {
   "cell_type": "code",
   "execution_count": 2,
   "metadata": {},
   "outputs": [
    {
     "name": "stdout",
     "output_type": "stream",
     "text": [
      "Collecting quantecon\n",
      "  Downloading quantecon-0.7.0-py3-none-any.whl (214 kB)\n",
      "     ---------------------------------------- 0.0/214.8 kB ? eta -:--:--\n",
      "     --------------------- ---------------- 122.9/214.8 kB 3.6 MB/s eta 0:00:01\n",
      "     -------------------------------------- 214.8/214.8 kB 3.3 MB/s eta 0:00:00\n",
      "Requirement already satisfied: numba>=0.49.0 in c:\\users\\ander\\anaconda3\\lib\\site-packages (from quantecon) (0.56.4)\n",
      "Requirement already satisfied: sympy in c:\\users\\ander\\anaconda3\\lib\\site-packages (from quantecon) (1.11.1)\n",
      "Requirement already satisfied: numpy>=1.17.0 in c:\\users\\ander\\anaconda3\\lib\\site-packages (from quantecon) (1.23.5)\n",
      "Requirement already satisfied: requests in c:\\users\\ander\\anaconda3\\lib\\site-packages (from quantecon) (2.28.1)\n",
      "Requirement already satisfied: scipy>=1.5.0 in c:\\users\\ander\\anaconda3\\lib\\site-packages (from quantecon) (1.10.0)\n",
      "Requirement already satisfied: llvmlite<0.40,>=0.39.0dev0 in c:\\users\\ander\\anaconda3\\lib\\site-packages (from numba>=0.49.0->quantecon) (0.39.1)\n",
      "Requirement already satisfied: setuptools in c:\\users\\ander\\anaconda3\\lib\\site-packages (from numba>=0.49.0->quantecon) (65.6.3)\n",
      "Requirement already satisfied: urllib3<1.27,>=1.21.1 in c:\\users\\ander\\anaconda3\\lib\\site-packages (from requests->quantecon) (1.26.15)\n",
      "Requirement already satisfied: charset-normalizer<3,>=2 in c:\\users\\ander\\anaconda3\\lib\\site-packages (from requests->quantecon) (2.0.4)\n",
      "Requirement already satisfied: certifi>=2017.4.17 in c:\\users\\ander\\anaconda3\\lib\\site-packages (from requests->quantecon) (2022.12.7)\n",
      "Requirement already satisfied: idna<4,>=2.5 in c:\\users\\ander\\anaconda3\\lib\\site-packages (from requests->quantecon) (3.4)\n",
      "Requirement already satisfied: mpmath>=0.19 in c:\\users\\ander\\anaconda3\\lib\\site-packages (from sympy->quantecon) (1.2.1)\n",
      "Installing collected packages: quantecon\n",
      "Successfully installed quantecon-0.7.0\n",
      "Note: you may need to restart the kernel to use updated packages.\n"
     ]
    }
   ],
   "source": [
    "import time\n",
    "import joblib\n",
    "\n",
    "import numpy as np\n",
    "import numba as nb\n",
    "\n",
    "from scipy import optimize\n",
    "\n",
    "import matplotlib.pyplot as plt\n",
    "plt.rcParams.update({\"axes.grid\":True,\"grid.color\":\"black\",\"grid.alpha\":\"0.25\",\"grid.linestyle\":\"--\"})\n",
    "plt.rcParams.update({'font.size': 14})\n",
    "import quantecon as qe # pip install quantecon"
   ]
  },
  {
   "cell_type": "code",
   "execution_count": 3,
   "metadata": {},
   "outputs": [
    {
     "name": "stdout",
     "output_type": "stream",
     "text": [
      "This computer has 8 CPUs\n",
      "CPUs_list = {8, 1, 2, 4}\n"
     ]
    }
   ],
   "source": [
    "import psutil\n",
    "CPUs = psutil.cpu_count()\n",
    "CPUs_list = set(np.sort([1,2,4,*np.arange(8,CPUs+1,4)])) \n",
    "print(f'This computer has {CPUs} CPUs')\n",
    "print(f'{CPUs_list = }')"
   ]
  },
  {
   "attachments": {},
   "cell_type": "markdown",
   "metadata": {},
   "source": [
    "## 1. <a id='toc1_'></a>[Serial problem](#toc0_)"
   ]
  },
  {
   "attachments": {},
   "cell_type": "markdown",
   "metadata": {},
   "source": [
    "Assume we need to **solve the following optimization problem**"
   ]
  },
  {
   "cell_type": "code",
   "execution_count": null,
   "metadata": {},
   "outputs": [],
   "source": [
    "def solver(alpha,beta,gamma):\n",
    "\n",
    "    def obj(x):\n",
    "        return (x[0]-np.exp(alpha))**2 + (x[1]-np.exp(beta))**2 + (x[2]-np.exp(gamma))**2\n",
    "\n",
    "    return optimize.minimize(obj,np.array([0.0,0.0,0.0]),method='Nelder-Mead')"
   ]
  },
  {
   "attachments": {},
   "cell_type": "markdown",
   "metadata": {},
   "source": [
    "$n$ times:"
   ]
  },
  {
   "cell_type": "code",
   "execution_count": null,
   "metadata": {},
   "outputs": [
    {
     "name": "stdout",
     "output_type": "stream",
     "text": [
      "Wall time: 32.4 s\n"
     ]
    }
   ],
   "source": [
    "n = 4000\n",
    "alphas = np.random.uniform(size=n)\n",
    "betas = np.random.uniform(size=n)\n",
    "gammas = np.random.uniform(size=n)\n",
    "\n",
    "def serial_solver(alphas,betas,gammas):\n",
    "    results = [solver(alpha,beta,gamma) for (alpha,beta,gamma) in zip(alphas,betas,gammas)]\n",
    "    return [result.x for result in results]\n",
    "\n",
    "%time xopts = serial_solver(alphas,betas,gammas)"
   ]
  },
  {
   "attachments": {},
   "cell_type": "markdown",
   "metadata": {},
   "source": [
    "## 2. <a id='toc2_'></a>[Parallization with joblib](#toc0_)"
   ]
  },
  {
   "attachments": {},
   "cell_type": "markdown",
   "metadata": {},
   "source": [
    "**Joblib** can be used to run python code in **parallel**.\n",
    "\n",
    "1. ``joblib.delayed(FUNC)(ARGS)`` create a task to call  ``FUNC`` with ``ARGS``.\n",
    "2. ``joblib.Parallel(n_jobs=K)(TASKS)`` execute the tasks in ``TASKS`` in ``K`` parallel processes.\n"
   ]
  },
  {
   "cell_type": "code",
   "execution_count": null,
   "metadata": {},
   "outputs": [
    {
     "name": "stdout",
     "output_type": "stream",
     "text": [
      "n_jobs = 8\n",
      "Wall time: 16.4 s\n",
      "\n",
      "n_jobs = 1\n",
      "Wall time: 30.9 s\n",
      "\n",
      "n_jobs = 2\n",
      "Wall time: 17.2 s\n",
      "\n",
      "n_jobs = 4\n",
      "Wall time: 12.4 s\n",
      "\n"
     ]
    }
   ],
   "source": [
    "def parallel_solver_joblib(alphas,betas,gammas,n_jobs=1):\n",
    "\n",
    "    tasks = (joblib.delayed(solver)(alpha,beta,gamma) for (alpha,beta,gamma) in zip(alphas,betas,gammas))\n",
    "    results = joblib.Parallel(n_jobs=n_jobs)(tasks)\n",
    "    \n",
    "    return [result.x for result in results]\n",
    "    \n",
    "for n_jobs in CPUs_list:\n",
    "    print(f'n_jobs = {n_jobs}')\n",
    "    %time xopts = parallel_solver_joblib(alphas,betas,gammas,n_jobs=n_jobs)\n",
    "    print(f'')"
   ]
  },
  {
   "attachments": {},
   "cell_type": "markdown",
   "metadata": {},
   "source": [
    "**Drawback:** The inputs to the functions are serialized and copied to each parallel process.\n",
    "\n",
    "[More on Joblib](https://joblib.readthedocs.io/en/latest/index.html) ([examples](https://joblib.readthedocs.io/en/latest/parallel.html))"
   ]
  },
  {
   "attachments": {},
   "cell_type": "markdown",
   "metadata": {},
   "source": [
    "## 3. <a id='toc3_'></a>[Parallization with Numba](#toc0_)"
   ]
  },
  {
   "attachments": {},
   "cell_type": "markdown",
   "metadata": {},
   "source": [
    "Using solver from `QuantEcon` (see [documentation](https://quanteconpy.readthedocs.io/en/latest/index.html))."
   ]
  },
  {
   "cell_type": "code",
   "execution_count": null,
   "metadata": {},
   "outputs": [],
   "source": [
    "@nb.njit\n",
    "def solver_nb(alpha,beta,gamma):\n",
    "\n",
    "    def obj(x,alpha,beta,gamma):\n",
    "        return (x[0]-alpha)**2 + (x[1]-beta)**2 + (x[2]-gamma)**2\n",
    "\n",
    "    res = qe.optimize.nelder_mead(obj,np.array([0.0,0.0,0.0]),args=(alpha,beta,gamma))\n",
    "\n",
    "    return res.x\n"
   ]
  },
  {
   "attachments": {},
   "cell_type": "markdown",
   "metadata": {},
   "source": [
    "**Serial version:**"
   ]
  },
  {
   "cell_type": "code",
   "execution_count": null,
   "metadata": {},
   "outputs": [
    {
     "name": "stdout",
     "output_type": "stream",
     "text": [
      "Wall time: 19.5 s\n",
      "Wall time: 3.9 s\n"
     ]
    }
   ],
   "source": [
    "@nb.njit\n",
    "def serial_solver_nb(alphas,betas,gammas):\n",
    "\n",
    "    n = alphas.size\n",
    "    xopts = np.zeros((n,3))\n",
    "\n",
    "    for i in range(n):\n",
    "        xopts[i,:] = solver_nb(alphas[i],betas[i],gammas[i])\n",
    "\n",
    "%time serial_solver_nb(alphas,betas,gammas)\n",
    "%time serial_solver_nb(alphas,betas,gammas)"
   ]
  },
  {
   "attachments": {},
   "cell_type": "markdown",
   "metadata": {},
   "source": [
    "**Parallel version:**"
   ]
  },
  {
   "cell_type": "code",
   "execution_count": null,
   "metadata": {},
   "outputs": [
    {
     "name": "stdout",
     "output_type": "stream",
     "text": [
      "Wall time: 15.3 s\n",
      "Wall time: 3.21 s\n"
     ]
    }
   ],
   "source": [
    "@nb.njit(parallel=True)\n",
    "def parallel_solver_nb(alphas,betas,gammas):\n",
    "\n",
    "    n = alphas.size\n",
    "    xopts = np.zeros((n,3))\n",
    "\n",
    "    for i in nb.prange(n):\n",
    "        xopts[i,:] = solver_nb(alphas[i],betas[i],gammas[i])\n",
    "\n",
    "%time parallel_solver_nb(alphas,betas,gammas)\n",
    "%time parallel_solver_nb(alphas,betas,gammas)"
   ]
  },
  {
   "attachments": {},
   "cell_type": "markdown",
   "metadata": {},
   "source": [
    "## 4. <a id='toc4_'></a>[Limitations](#toc0_)\n",
    "\n",
    "**Parallization** can not always be used. Some problems are inherently sequential. \n",
    "\n",
    "\n",
    "If the result from a previous iteration of the loop is required in a later iteration, the cannot be executed seperately in parallel.<br>(except in some special cases such as summing). \n",
    "\n",
    "The larger the proportion of the code, which can be run in parallel is, the larger the potential speed-up is.<br>\n",
    "This is called **Amdahl's Law**.\n",
    "\n",
    "<img src=\"https://github.com/NumEconCopenhagen/lectures-2019/raw/master/11/amdahls_law.png\" alt=\"amdahls_law\" width=40% />"
   ]
  }
 ],
 "metadata": {
  "kernelspec": {
   "display_name": "base",
   "language": "python",
   "name": "python3"
  },
  "language_info": {
   "codemirror_mode": {
    "name": "ipython",
    "version": 3
   },
   "file_extension": ".py",
   "mimetype": "text/x-python",
   "name": "python",
   "nbconvert_exporter": "python",
   "pygments_lexer": "ipython3",
   "version": "3.9.16"
  },
  "toc-autonumbering": true,
  "vscode": {
   "interpreter": {
    "hash": "47ef90cdf3004d3f859f1fb202523c65c07ba7c22eefd261b181f4744e2d0403"
   }
  }
 },
 "nbformat": 4,
 "nbformat_minor": 4
}
